{
 "cells": [
  {
   "cell_type": "markdown",
   "metadata": {},
   "source": [
    "# Question 1"
   ]
  },
  {
   "cell_type": "markdown",
   "metadata": {},
   "source": [
    "Suppose I draw a small sample (n < 30) from a population with unknown parameters and use that sample to construct a confidence interval for my estimate of the population mean. In that case my interval will be a function of:\n",
    "\n",
    "○ The sample mean\n",
    "○ The sample standard deviation\n",
    "○ The sample size\n",
    "○ The t-score corresponding to the confidence level\n",
    "○ ✅ All of the above"
   ]
  },
  {
   "cell_type": "markdown",
   "metadata": {},
   "source": [
    "## `Explanation:`"
   ]
  },
  {
   "cell_type": "markdown",
   "metadata": {},
   "source": [
    "When constructing a confidence interval for the population mean using a small sample (n < 30) from a population with unknown parameters, the interval depends on:\n",
    "\n",
    "The sample mean – The center of the confidence interval.\n",
    "\n",
    "The sample standard deviation – Since the population standard deviation is unknown, we estimate it using the sample standard deviation.\n",
    "\n",
    "The sample size – Affects the variability of the sample mean.\n",
    "\n",
    "The t-score corresponding to the confidence level – Since the sample size is small and the population standard deviation is unknown, we use the t-distribution.\n",
    "\n",
    "All these factors determine the confidence interval, so the correct choice is \"All of the above.\""
   ]
  },
  {
   "cell_type": "markdown",
   "metadata": {},
   "source": [
    "# Question 2"
   ]
  },
  {
   "cell_type": "markdown",
   "metadata": {},
   "source": []
  }
 ],
 "metadata": {
  "language_info": {
   "name": "python"
  }
 },
 "nbformat": 4,
 "nbformat_minor": 2
}
