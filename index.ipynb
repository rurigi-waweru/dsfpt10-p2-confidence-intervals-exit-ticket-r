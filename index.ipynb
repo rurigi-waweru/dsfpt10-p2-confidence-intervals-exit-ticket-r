{
 "cells": [
  {
   "cell_type": "markdown",
   "metadata": {},
   "source": [
    "# Question 1"
   ]
  },
  {
   "cell_type": "markdown",
   "metadata": {},
   "source": [
    "> Suppose I draw a small sample (n < 30) from a population with unknown parameters and use that sample to construct a confidence interval for my estimate of the population mean. In that case my interval will be a function of:\n",
    "\n",
    "○ The sample mean\n",
    "\n",
    "○ The sample standard deviation\n",
    "\n",
    "○ The sample size\n",
    "\n",
    "○ The t-score corresponding to the confidence level\n",
    "\n",
    "○ ✅ All of the above"
   ]
  },
  {
   "cell_type": "markdown",
   "metadata": {},
   "source": [
    "## `Explanation:`"
   ]
  },
  {
   "cell_type": "markdown",
   "metadata": {},
   "source": [
    "When constructing a confidence interval for the population mean using a small sample (n < 30) from a population with unknown parameters, the interval depends on:\n",
    "\n",
    "The sample mean – The center of the confidence interval.\n",
    "\n",
    "The sample standard deviation – Since the population standard deviation is unknown, we estimate it using the sample standard deviation.\n",
    "\n",
    "The sample size – Affects the variability of the sample mean.\n",
    "\n",
    "The t-score corresponding to the confidence level – Since the sample size is small and the population standard deviation is unknown, we use the t-distribution.\n",
    "\n",
    "All these factors determine the confidence interval, so the correct choice is \"All of the above.\""
   ]
  },
  {
   "cell_type": "markdown",
   "metadata": {},
   "source": [
    "# Question 2"
   ]
  },
  {
   "cell_type": "markdown",
   "metadata": {},
   "source": [
    "> What happens to the graph of my t-distribution curve as I increase the number of degrees of freedom to infinity?\n",
    "\n",
    "○ ✅ It approaches a normal distribution curve.\n",
    "\n",
    "○ Its tails get increasingly fatter.\n",
    "\n",
    "○ Its skewness shrinks to zero.\n",
    "\n",
    "○ The confidence intervals for a given confidence level get larger.\n",
    "\n",
    "○ The kurtosis approaches zero."
   ]
  },
  {
   "cell_type": "markdown",
   "metadata": {},
   "source": [
    "## `Explanation:`"
   ]
  },
  {
   "cell_type": "markdown",
   "metadata": {},
   "source": [
    "As the number of degrees of freedom increases to infinity, the t-distribution gradually becomes indistinguishable from the standard normal distribution (Z-distribution). This is because the t-distribution has heavier tails for small degrees of freedom, but as the sample size increases, these tails shrink, and the distribution converges to a normal distribution."
   ]
  },
  {
   "cell_type": "markdown",
   "metadata": {},
   "source": [
    "# Question 3"
   ]
  },
  {
   "cell_type": "markdown",
   "metadata": {},
   "source": [
    "Which of the following is the best way of interpreting a statement that, with 95% confidence, the damask rose has an average petal length of 3.3 ± 0.4 cm?\n",
    "\n",
    "○ The true population mean has a 95% chance of being between 3.0 and 3.6 cm.\n",
    "\n",
    "○ 95% of all damask roses have petal lengths between 2.9 and 3.7 cm.\n",
    "\n",
    "○ ✅ If we calculated many CIs for many samples, we'd expect 95% of them to contain the true population mean.\n",
    "\n",
    "○ 95% of all petals of observed damask roses had petal lengths between 2.9 cm and 3.7 cm.\n",
    "\n",
    "○ If a damask rose were sampled randomly, it would have a 95% chance of having at least one petal with a length between 3.3 cm and 4.1 cm."
   ]
  },
  {
   "cell_type": "markdown",
   "metadata": {},
   "source": [
    "## `Explanation:`"
   ]
  },
  {
   "cell_type": "markdown",
   "metadata": {},
   "source": [
    "A 95% confidence interval does not mean that there is a 95% probability that the true population mean lies within a specific interval from a single sample. Instead, it means that if we were to take many random samples and compute confidence intervals for each, approximately 95% of those intervals would contain the true population mean."
   ]
  },
  {
   "cell_type": "markdown",
   "metadata": {},
   "source": [
    "#### **Why Other Options Are Incorrect:**\n",
    "\n",
    "1. \"The true population mean has a 95% chance of being between 3.0 and 3.6 cm.\"\n",
    "\n",
    "- `Incorrect`: because the true population mean is a fixed value, not a random variable. The confidence interval either contains it or it doesn't.\n",
    "\n",
    "2. \"95% of all damask roses have petal lengths between 2.9 and 3.7 cm.\"\n",
    "\n",
    "- `Incorrect`: because confidence intervals apply to population means, not individual observations.\n",
    "\n",
    "3. \"95% of all petals of observed damask roses had petal lengths between 2.9 cm and 3.7 cm.\"\n",
    "\n",
    "- `Incorrect`: because the confidence interval does not describe the distribution of individual data points, only the estimate of the mean.\n",
    "\n",
    "4. \"If a damask rose were sampled randomly, it would have a 95% chance of having at least one petal with a length between 3.3 cm and 4.1 cm.\"\n",
    "\n",
    "- `Incorrect`: because confidence intervals do not make probability statements about individual samples."
   ]
  }
 ],
 "metadata": {
  "language_info": {
   "name": "python"
  }
 },
 "nbformat": 4,
 "nbformat_minor": 2
}
